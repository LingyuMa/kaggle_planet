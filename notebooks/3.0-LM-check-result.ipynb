{
 "cells": [
  {
   "cell_type": "code",
   "execution_count": 1,
   "metadata": {},
   "outputs": [
    {
     "name": "stderr",
     "output_type": "stream",
     "text": [
      "C:\\Users\\Lingyu\\.conda\\envs\\tensorflow\\lib\\site-packages\\IPython\\html.py:14: ShimWarning: The `IPython.html` package has been deprecated since IPython 4.0. You should import from `notebook` instead. `IPython.html.widgets` has moved to `ipywidgets`.\n",
      "  \"`IPython.html.widgets` has moved to `ipywidgets`.\", ShimWarning)\n"
     ]
    }
   ],
   "source": [
    "import numpy as np\n",
    "import pandas as pd\n",
    "import os\n",
    "import seaborn as sns\n",
    "import matplotlib.pyplot as plt\n",
    "from sklearn.metrics import fbeta_score\n",
    "from sklearn.metrics import roc_curve, auc\n",
    "from sklearn.metrics import precision_recall_curve\n",
    "from sklearn.metrics import average_precision_score\n",
    "\n",
    "%matplotlib inline"
   ]
  },
  {
   "cell_type": "code",
   "execution_count": 2,
   "metadata": {
    "collapsed": true
   },
   "outputs": [],
   "source": [
    "WEATHER_LABELS = {'clear': 0,\n",
    "                  'partly_cloudy': 1,\n",
    "                  'haze': 2,\n",
    "                  'cloudy': 3}\n",
    "\n",
    "COMMON_LABELS = {'primary': 0,\n",
    "                 'agriculture': 1,\n",
    "                 'road': 2,\n",
    "                 'water': 3,\n",
    "                 'habitation': 4,\n",
    "                 'cultivation': 5,\n",
    "                 'bare_ground': 6}\n",
    "\n",
    "RARE_LABELS = {'selective_logging': 0,\n",
    "               'artisinal_mine': 1,\n",
    "               'blooming': 2,\n",
    "               'slash_burn': 3,\n",
    "               'blow_down': 4,\n",
    "               'conventional_mine': 5}\n",
    "LABELS = [WEATHER_LABELS, COMMON_LABELS, RARE_LABELS]"
   ]
  },
  {
   "cell_type": "code",
   "execution_count": 3,
   "metadata": {
    "collapsed": true
   },
   "outputs": [],
   "source": [
    "NETWORK_ID = 0"
   ]
  },
  {
   "cell_type": "code",
   "execution_count": 4,
   "metadata": {
    "collapsed": true
   },
   "outputs": [],
   "source": [
    "EVALUATION_PATH = os.path.join(r'../reports/planet_validation')\n",
    "TF_RECORD_PATH = os.path.join(r'../data/processed/tfrecord_summary.txt')"
   ]
  },
  {
   "cell_type": "code",
   "execution_count": 5,
   "metadata": {
    "collapsed": true
   },
   "outputs": [],
   "source": [
    "hashtable = dict([[v,k] for k,v in LABELS[NETWORK_ID].items()])\n",
    "label_names = list(hashtable.values())"
   ]
  },
  {
   "cell_type": "code",
   "execution_count": 6,
   "metadata": {
    "collapsed": true
   },
   "outputs": [],
   "source": [
    "label_distribution = np.loadtxt(TF_RECORD_PATH)"
   ]
  },
  {
   "cell_type": "code",
   "execution_count": 10,
   "metadata": {
    "collapsed": true
   },
   "outputs": [],
   "source": [
    "train_size = label_distribution[-1]\n",
    "validation_size = int(np.floor(40483 * 0.2))"
   ]
  },
  {
   "cell_type": "markdown",
   "metadata": {},
   "source": [
    "# 1. Training set results"
   ]
  },
  {
   "cell_type": "code",
   "execution_count": null,
   "metadata": {
    "collapsed": true
   },
   "outputs": [],
   "source": [
    "labels = np.loadtxt(os.path.join(EVALUATION_PATH, 'out_labels_train.txt'))[0 : train_size, :]\n",
    "preds = np.loadtxt(os.path.join(EVALUATION_PATH, 'out_predictions_train.txt'))[0 : train_size, :]"
   ]
  },
  {
   "cell_type": "markdown",
   "metadata": {},
   "source": [
    "# 2. Validation set results"
   ]
  },
  {
   "cell_type": "code",
   "execution_count": null,
   "metadata": {
    "collapsed": true
   },
   "outputs": [],
   "source": [
    "labels = np.loadtxt(os.path.join(EVALUATION_PATH, 'out_labels_validation.txt'))[0 : train_size, :]\n",
    "preds = np.loadtxt(os.path.join(EVALUATION_PATH, 'out_predictions_validation.txt'))[0 : train_size, :]"
   ]
  }
 ],
 "metadata": {
  "kernelspec": {
   "display_name": "Python 3",
   "language": "python",
   "name": "python3"
  },
  "language_info": {
   "codemirror_mode": {
    "name": "ipython",
    "version": 3
   },
   "file_extension": ".py",
   "mimetype": "text/x-python",
   "name": "python",
   "nbconvert_exporter": "python",
   "pygments_lexer": "ipython3",
   "version": "3.5.2"
  }
 },
 "nbformat": 4,
 "nbformat_minor": 2
}
